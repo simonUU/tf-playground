{
  "nbformat": 4,
  "nbformat_minor": 0,
  "metadata": {
    "colab": {
      "name": "VanillaGANwithBatchDiscriminator.ipynb",
      "version": "0.3.2",
      "provenance": [],
      "include_colab_link": true
    },
    "kernelspec": {
      "name": "python3",
      "display_name": "Python 3"
    },
    "accelerator": "GPU"
  },
  "cells": [
    {
      "cell_type": "markdown",
      "metadata": {
        "id": "view-in-github",
        "colab_type": "text"
      },
      "source": [
        "<a href=\"https://colab.research.google.com/github/simonUU/tf-playground/blob/master/VanillaGANwithBatchDiscriminator.ipynb\" target=\"_parent\"><img src=\"https://colab.research.google.com/assets/colab-badge.svg\" alt=\"Open In Colab\"/></a>"
      ]
    },
    {
      "metadata": {
        "id": "wflA4ZPQnfPC",
        "colab_type": "text"
      },
      "cell_type": "markdown",
      "source": [
        "# Vanilla GAN with Batch Discriminator\n",
        "\n",
        "In this notebook, we test an implementation of a vanilla GAN with an second batch discriminatior that should prohibit mode collaps."
      ]
    },
    {
      "metadata": {
        "id": "7sYqYTe6mOGI",
        "colab_type": "code",
        "colab": {
          "base_uri": "https://localhost:8080/",
          "height": 90
        },
        "outputId": "4b278887-4382-48f2-de4b-c41997252631"
      },
      "cell_type": "code",
      "source": [
        "# lets load tf2.0\n",
        "!pip install -q tensorflow-gpu==2.0.0-alpha0"
      ],
      "execution_count": 1,
      "outputs": [
        {
          "output_type": "stream",
          "text": [
            "\u001b[K     |████████████████████████████████| 332.1MB 69kB/s \n",
            "\u001b[K     |████████████████████████████████| 61kB 25.6MB/s \n",
            "\u001b[K     |████████████████████████████████| 419kB 44.5MB/s \n",
            "\u001b[K     |████████████████████████████████| 3.0MB 43.2MB/s \n",
            "\u001b[?25h"
          ],
          "name": "stdout"
        }
      ]
    },
    {
      "metadata": {
        "id": "M7ClduRRn2xC",
        "colab_type": "code",
        "colab": {
          "base_uri": "https://localhost:8080/",
          "height": 35
        },
        "outputId": "1dd06411-8ec1-47a0-b12a-7a4ae03107eb"
      },
      "cell_type": "code",
      "source": [
        "import tensorflow as tf\n",
        "print(tf.__version__)"
      ],
      "execution_count": 2,
      "outputs": [
        {
          "output_type": "stream",
          "text": [
            "2.0.0-alpha0\n"
          ],
          "name": "stdout"
        }
      ]
    },
    {
      "metadata": {
        "id": "K0G0hCgooHFS",
        "colab_type": "code",
        "colab": {}
      },
      "cell_type": "code",
      "source": [
        "import tqdm\n",
        "import time\n",
        "import os \n",
        "\n",
        "from IPython import display\n",
        "import matplotlib.pyplot as plt"
      ],
      "execution_count": 0,
      "outputs": []
    },
    {
      "metadata": {
        "id": "TpCVgOWzBdPp",
        "colab_type": "code",
        "colab": {}
      },
      "cell_type": "code",
      "source": [
        "# GLOBAL SETTING\n",
        "\n",
        "BATCH_SIZE = 256\n",
        "NOISE_DIM = 100"
      ],
      "execution_count": 0,
      "outputs": []
    },
    {
      "metadata": {
        "id": "QKrnHVegoq-g",
        "colab_type": "text"
      },
      "cell_type": "markdown",
      "source": [
        "## Load the data"
      ]
    },
    {
      "metadata": {
        "id": "9td51Uf0pAkK",
        "colab_type": "code",
        "colab": {
          "base_uri": "https://localhost:8080/",
          "height": 54
        },
        "outputId": "90cf6bdd-272a-44b6-9e1d-73adbe9d2b15"
      },
      "cell_type": "code",
      "source": [
        "(train_images, train_labels), (_, _) = tf.keras.datasets.mnist.load_data()\n"
      ],
      "execution_count": 6,
      "outputs": [
        {
          "output_type": "stream",
          "text": [
            "Downloading data from https://storage.googleapis.com/tensorflow/tf-keras-datasets/mnist.npz\n",
            "11493376/11490434 [==============================] - 0s 0us/step\n"
          ],
          "name": "stdout"
        }
      ]
    },
    {
      "metadata": {
        "id": "WAf3tE-5pE1r",
        "colab_type": "code",
        "colab": {}
      },
      "cell_type": "code",
      "source": [
        "train_images = train_images.reshape(train_images.shape[0], 28, 28, 1).astype('float32')\n",
        "train_images = (train_images - 127.5) / 127.5 # Normalize the images to [-1, 1]\n"
      ],
      "execution_count": 0,
      "outputs": []
    },
    {
      "metadata": {
        "id": "OzZFaB86qOiS",
        "colab_type": "code",
        "colab": {
          "base_uri": "https://localhost:8080/",
          "height": 35
        },
        "outputId": "9e8dfb2a-89d5-478b-b25a-2c8a4d0041ba"
      },
      "cell_type": "code",
      "source": [
        "train_images.shape"
      ],
      "execution_count": 14,
      "outputs": [
        {
          "output_type": "execute_result",
          "data": {
            "text/plain": [
              "(60000, 28, 28, 1)"
            ]
          },
          "metadata": {
            "tags": []
          },
          "execution_count": 14
        }
      ]
    },
    {
      "metadata": {
        "id": "fkozdW_UqMdL",
        "colab_type": "code",
        "colab": {}
      },
      "cell_type": "code",
      "source": [
        "BUFFER_SIZE = train_images.shape[0]\n",
        "\n"
      ],
      "execution_count": 0,
      "outputs": []
    },
    {
      "metadata": {
        "id": "Ogov1s2spIaa",
        "colab_type": "code",
        "colab": {}
      },
      "cell_type": "code",
      "source": [
        "# Use a tensorflow dataset\n",
        "\n",
        "train_dataset = tf.data.Dataset.from_tensor_slices(train_images)\n",
        "train_dataset = train_dataset.shuffle(BUFFER_SIZE)\n",
        "train_dataset = train_dataset.batch(BATCH_SIZE)"
      ],
      "execution_count": 0,
      "outputs": []
    },
    {
      "metadata": {
        "id": "h1RCzfbpqVXf",
        "colab_type": "code",
        "colab": {}
      },
      "cell_type": "code",
      "source": [
        ""
      ],
      "execution_count": 0,
      "outputs": []
    },
    {
      "metadata": {
        "id": "PkoyiY_GqWvj",
        "colab_type": "text"
      },
      "cell_type": "markdown",
      "source": [
        "## The generator"
      ]
    },
    {
      "metadata": {
        "id": "I30cc0_crmiI",
        "colab_type": "code",
        "colab": {}
      },
      "cell_type": "code",
      "source": [
        "from tensorflow.keras import layers\n",
        "\n",
        "def get_generator():\n",
        "  # Total params: 1,818,112\n",
        "  # Trainable params: 1,792,768\n",
        "  # Non-trainable params: 25,344\n",
        "  \n",
        "  i = layers.Input(shape=(NOISE_DIM,))\n",
        "  \n",
        "  h = layers.Dense(7*7*256, use_bias=False)(i)\n",
        "  h = layers.BatchNormalization()(h)\n",
        "  h = layers.LeakyReLU()(h)\n",
        "\n",
        "  h = layers.Reshape((7, 7, 256))(h)\n",
        "\n",
        "  h = layers.Conv2DTranspose(64, (5,5), strides=(1,1),  use_bias=False)(h)\n",
        "  h = layers.BatchNormalization()(h)\n",
        "  h = layers.LeakyReLU()(h)\n",
        "\n",
        "  h = layers.Conv2DTranspose(64, (5,5), strides=(2,2),  use_bias=False)(h)\n",
        "  h = layers.BatchNormalization()(h)\n",
        "  h = layers.LeakyReLU()(h)\n",
        "\n",
        "  o = layers.Conv2DTranspose(1, (4,4), strides=(1,1),  use_bias=False, activation='tanh')(h)\n",
        "\n",
        "  m = tf.keras.Model(i,o)\n",
        "  return m"
      ],
      "execution_count": 0,
      "outputs": []
    },
    {
      "metadata": {
        "id": "cCowaW69GtwX",
        "colab_type": "code",
        "colab": {}
      },
      "cell_type": "code",
      "source": [
        "\n",
        "def get_generator2():\n",
        "  # Total params: 1,818,112\n",
        "  # Trainable params: 1,792,768\n",
        "  # Non-trainable params: 25,344\n",
        "  \n",
        "  i = layers.Input(shape=(NOISE_DIM,))\n",
        "  \n",
        "  h = layers.Dense(7*7*256, use_bias=False)(i)\n",
        "  h = layers.BatchNormalization()(h)\n",
        "  h = layers.LeakyReLU()(h)\n",
        "\n",
        "  h = layers.Reshape((7, 7, 256))(h)\n",
        "\n",
        "  h = layers.Conv2DTranspose(128, (5,5), strides=(1,1), padding='same',  use_bias=False)(h)\n",
        "  h = layers.BatchNormalization()(h)\n",
        "  h = layers.LeakyReLU()(h)\n",
        "\n",
        "  h = layers.Conv2DTranspose(64, (5,5), strides=(2,2),  padding='same', use_bias=False)(h)\n",
        "  h = layers.BatchNormalization()(h)\n",
        "  h = layers.LeakyReLU()(h)\n",
        "\n",
        "  o = layers.Conv2DTranspose(1, (5,5), strides=(2,2), padding='same', use_bias=False, activation='tanh')(h)\n",
        "\n",
        "  m = tf.keras.Model(i,o)\n",
        "  return m"
      ],
      "execution_count": 0,
      "outputs": []
    },
    {
      "metadata": {
        "id": "69AbmhW-sqJr",
        "colab_type": "text"
      },
      "cell_type": "markdown",
      "source": [
        "Lets test the generator"
      ]
    },
    {
      "metadata": {
        "id": "sLnOdlKL8CkE",
        "colab_type": "code",
        "colab": {}
      },
      "cell_type": "code",
      "source": [
        "G = get_generator()\n",
        "\n",
        "noise = tf.random.normal([1,NOISE_DIM])\n",
        "test_img = G(noise, training=False)"
      ],
      "execution_count": 0,
      "outputs": []
    },
    {
      "metadata": {
        "id": "8zQAm2Wm8ajZ",
        "colab_type": "code",
        "colab": {
          "base_uri": "https://localhost:8080/",
          "height": 287
        },
        "outputId": "f0796c41-ff00-4954-fdae-18eef1431785"
      },
      "cell_type": "code",
      "source": [
        "plt.imshow(test_img[0, :, :, 0], cmap='gray')\n"
      ],
      "execution_count": 191,
      "outputs": [
        {
          "output_type": "execute_result",
          "data": {
            "text/plain": [
              "<matplotlib.image.AxesImage at 0x7ff2b51fc6a0>"
            ]
          },
          "metadata": {
            "tags": []
          },
          "execution_count": 191
        },
        {
          "output_type": "display_data",
          "data": {
            "image/png": "[encoded data removed]",
            "text/plain": [
              "<Figure size 432x288 with 1 Axes>"
            ]
          },
          "metadata": {
            "tags": []
          }
        }
      ]
    },
    {
      "metadata": {
        "id": "XsK2Hq858F5N",
        "colab_type": "text"
      },
      "cell_type": "markdown",
      "source": [
        "## The Discriminator(s)"
      ]
    },
    {
      "metadata": {
        "id": "0--DNGWI8LdO",
        "colab_type": "code",
        "colab": {}
      },
      "cell_type": "code",
      "source": [
        "def get_main_discriminator():\n",
        "  \n",
        "  i = layers.Input(shape=(28,28,1))\n",
        "\n",
        "  h = layers.Conv2D(64, (5,5), strides=(2,2), padding='same')(i)\n",
        "  h = layers.LeakyReLU()(h)\n",
        "  h = layers.Dropout(0.3)(h)\n",
        "\n",
        "  h = layers.Conv2D(128, (5,5), strides=(2,2), padding='same')(h)\n",
        "  h = layers.LeakyReLU()(h)\n",
        "  h = layers.Dropout(0.3)(h)\n",
        "\n",
        "  h = layers.Flatten()(h)\n",
        "  h = layers.Dense(1)(h)\n",
        "\n",
        "  m = tf.keras.Model(i,h)\n",
        "  return m"
      ],
      "execution_count": 0,
      "outputs": []
    },
    {
      "metadata": {
        "id": "Xeo3F4Gu9oK3",
        "colab_type": "code",
        "colab": {
          "base_uri": "https://localhost:8080/",
          "height": 35
        },
        "outputId": "91012eff-9b29-4497-dcc9-d07e5954da42"
      },
      "cell_type": "code",
      "source": [
        "D1 = get_main_discriminator()\n",
        "decision = D1(test_img)\n",
        "print(decision)"
      ],
      "execution_count": 193,
      "outputs": [
        {
          "output_type": "stream",
          "text": [
            "tf.Tensor([[0.00252793]], shape=(1, 1), dtype=float32)\n"
          ],
          "name": "stdout"
        }
      ]
    },
    {
      "metadata": {
        "id": "FeBxM2z19pQm",
        "colab_type": "code",
        "colab": {
          "base_uri": "https://localhost:8080/",
          "height": 495
        },
        "outputId": "811b8083-723c-4e7d-b970-8d11e2d44d66"
      },
      "cell_type": "code",
      "source": [
        "m.summary()"
      ],
      "execution_count": 194,
      "outputs": [
        {
          "output_type": "stream",
          "text": [
            "Model: \"model_12\"\n",
            "_________________________________________________________________\n",
            "Layer (type)                 Output Shape              Param #   \n",
            "=================================================================\n",
            "input_39 (InputLayer)        [(None, 28, 28, 1)]       0         \n",
            "_________________________________________________________________\n",
            "conv2d_22 (Conv2D)           (None, 14, 14, 64)        1664      \n",
            "_________________________________________________________________\n",
            "leaky_re_lu_78 (LeakyReLU)   (None, 14, 14, 64)        0         \n",
            "_________________________________________________________________\n",
            "dropout_21 (Dropout)         (None, 14, 14, 64)        0         \n",
            "_________________________________________________________________\n",
            "conv2d_23 (Conv2D)           (None, 7, 7, 128)         204928    \n",
            "_________________________________________________________________\n",
            "leaky_re_lu_79 (LeakyReLU)   (None, 7, 7, 128)         0         \n",
            "_________________________________________________________________\n",
            "dropout_22 (Dropout)         (None, 7, 7, 128)         0         \n",
            "_________________________________________________________________\n",
            "flatten_1 (Flatten)          (None, 6272)              0         \n",
            "_________________________________________________________________\n",
            "dense_26 (Dense)             (None, 1)                 6273      \n",
            "=================================================================\n",
            "Total params: 212,865\n",
            "Trainable params: 212,865\n",
            "Non-trainable params: 0\n",
            "_________________________________________________________________\n"
          ],
          "name": "stdout"
        }
      ]
    },
    {
      "metadata": {
        "id": "Xk-5jq8W-Kb5",
        "colab_type": "text"
      },
      "cell_type": "markdown",
      "source": [
        "## The Loss Functions"
      ]
    },
    {
      "metadata": {
        "id": "dgcGQAkY-WBW",
        "colab_type": "code",
        "colab": {}
      },
      "cell_type": "code",
      "source": [
        "# Discriminator 1 loss\n",
        "cross_entropy = tf.keras.losses.BinaryCrossentropy(from_logits=True)\n",
        "\n",
        "def discriminator1_loss(real_outputs, fake_outputs):\n",
        "  real_loss = cross_entropy(tf.ones_like(real_outputs), real_outputs)\n",
        "  fake_loss = cross_entropy(tf.zeros_like(fake_outputs), fake_outputs)\n",
        "  return real_loss + fake_loss\n"
      ],
      "execution_count": 0,
      "outputs": []
    },
    {
      "metadata": {
        "id": "TVsgHE38Abcb",
        "colab_type": "code",
        "colab": {}
      },
      "cell_type": "code",
      "source": [
        "# Generator loss\n",
        "\n",
        "def generator_loss(fake_outputs):\n",
        "  return cross_entropy(tf.ones_like(fake_outputs), fake_outputs)"
      ],
      "execution_count": 0,
      "outputs": []
    },
    {
      "metadata": {
        "id": "QqFVN696Arqp",
        "colab_type": "code",
        "colab": {}
      },
      "cell_type": "code",
      "source": [
        "# optimizers\n",
        "\n",
        "gen_optimizer = tf.keras.optimizers.Adam(0.0001)\n",
        "dis1_optimizer = tf.keras.optimizers.Adam(0.0001)"
      ],
      "execution_count": 0,
      "outputs": []
    },
    {
      "metadata": {
        "id": "GaUIN5BvA2JO",
        "colab_type": "code",
        "colab": {}
      },
      "cell_type": "code",
      "source": [
        "# Save checkpoints (taken from tf examples)\n",
        "\n",
        "checkpoint_dir = './training_checkpoints'\n",
        "checkpoint_prefix = os.path.join(checkpoint_dir, \"ckpt\")\n",
        "checkpoint = tf.train.Checkpoint(generator_optimizer=gen_optimizer,\n",
        "                                 discriminator_optimizer=dis1_optimizer,\n",
        "                                 generator=G,\n",
        "                                 discriminator=D1)\n"
      ],
      "execution_count": 0,
      "outputs": []
    },
    {
      "metadata": {
        "id": "del33EulA3TO",
        "colab_type": "text"
      },
      "cell_type": "markdown",
      "source": [
        "## Prepare the training"
      ]
    },
    {
      "metadata": {
        "id": "4TuYNugWBWIb",
        "colab_type": "code",
        "colab": {}
      },
      "cell_type": "code",
      "source": [
        "EPOCHS = 50\n",
        "num_examples_to_generate = 16\n",
        "\n",
        "# We will reuse this seed overtime (so it's easier)\n",
        "# to visualize progress in the animated GIF)\n",
        "seed = tf.random.normal([num_examples_to_generate, NOISE_DIM])\n"
      ],
      "execution_count": 0,
      "outputs": []
    },
    {
      "metadata": {
        "id": "oOqjNeoSBvvV",
        "colab_type": "code",
        "colab": {}
      },
      "cell_type": "code",
      "source": [
        "@tf.function\n",
        "def train_step(images):\n",
        "  noise = tf.random.normal([BATCH_SIZE, NOISE_DIM])\n",
        "  \n",
        "  with tf.GradientTape() as gen_tape, tf.GradientTape() as dis1_tape:\n",
        "    generated_images = G(noise, training=True)\n",
        "    \n",
        "    real_output = D1(images, training=True)\n",
        "    fake_output = D1(generated_images, training=True)\n",
        "    \n",
        "    gen_loss = generator_loss(fake_output)\n",
        "    dis1_loss = discriminator1_loss(real_output, fake_output)\n",
        "   \n",
        "  gradients_gen = gen_tape.gradient(gen_loss, G.trainable_variables)\n",
        "  gradients_dis1 = dis1_tape.gradient(dis1_loss, D1.trainable_variables)\n",
        "  \n",
        "  gen_optimizer.apply_gradients(zip(gradients_gen, G.trainable_variables))\n",
        "  dis1_optimizer.apply_gradients(zip(gradients_dis1,D1.trainable_variables))"
      ],
      "execution_count": 0,
      "outputs": []
    },
    {
      "metadata": {
        "id": "yeLjK0_tFGjS",
        "colab_type": "code",
        "colab": {}
      },
      "cell_type": "code",
      "source": [
        "#vvvvv Taken from tf tutorial vvvvvv\n",
        "def generate_and_save_images(model, epoch, test_input):\n",
        "  # Notice `training` is set to False.\n",
        "  # This is so all layers run in inference mode (batchnorm).\n",
        "  predictions = model(test_input, training=False)\n",
        "\n",
        "  fig = plt.figure(figsize=(4,4))\n",
        "\n",
        "  for i in range(predictions.shape[0]):\n",
        "      plt.subplot(4, 4, i+1)\n",
        "      plt.imshow(predictions[i, :, :, 0] * 127.5 + 127.5, cmap='gray')\n",
        "      plt.axis('off')\n",
        "\n",
        "  plt.savefig('image_at_epoch_{:04d}.png'.format(epoch))\n",
        "  plt.show()\n"
      ],
      "execution_count": 0,
      "outputs": []
    },
    {
      "metadata": {
        "id": "HhuF4AKxDOCP",
        "colab_type": "code",
        "colab": {}
      },
      "cell_type": "code",
      "source": [
        "def train(dataset, epochs):\n",
        "  for ep in tqdm.trange(epochs, desc='Epoch Loop'):\n",
        "    \n",
        "#     for batch in tqdm.tqdm(dataset, desc='Inner Epoch Loop',):\n",
        "    for batch in dataset:\n",
        "      start = time.time()\n",
        "\n",
        "      train_step(batch)\n",
        "    # Produce images for the GIF as we go\n",
        "    display.clear_output(wait=True)\n",
        "    generate_and_save_images(G, ep + 1, seed)\n",
        "\n",
        "    if (ep + 1) % 15 == 0:\n",
        "      checkpoint.save(file_prefix=checkpoint_prefix)\n",
        "\n",
        "    print ('Time for epoch {} is {} sec'.format(ep+ 1, time.time()-start))\n",
        "        \n",
        "  # Generate after the final epoch\n",
        "  display.clear_output(wait=True)\n",
        "  generate_and_save_images(G,epochs,seed)\n"
      ],
      "execution_count": 0,
      "outputs": []
    },
    {
      "metadata": {
        "id": "8BRtZ4doEH1i",
        "colab_type": "code",
        "colab": {
          "base_uri": "https://localhost:8080/",
          "height": 525
        },
        "outputId": "7e2db090-b13c-4d30-9303-94dcba04b92b"
      },
      "cell_type": "code",
      "source": [
        "train(train_dataset, EPOCHS)\n"
      ],
      "execution_count": 0,
      "outputs": [
        {
          "output_type": "display_data",
          "data": {
            "image/png": "[encoded data removed]",
            "text/plain": [
              "<Figure size 288x288 with 16 Axes>"
            ]
          },
          "metadata": {
            "tags": []
          }
        },
        {
          "output_type": "stream",
          "text": [
            "\n",
            "\n",
            "\n",
            "\n",
            "\n",
            "\n",
            "\n",
            "\n",
            "\n",
            "\n",
            "\n",
            "\n",
            "\n",
            "Epoch Loop:  30%|███       | 15/50 [03:12<07:20, 12.58s/it]\u001b[A\u001b[A\u001b[A\u001b[A\u001b[A\u001b[A\u001b[A\u001b[A\u001b[A\u001b[A\u001b[A\u001b[A\u001b[A"
          ],
          "name": "stderr"
        },
        {
          "output_type": "stream",
          "text": [
            "Time for epoch 15 is 0.7837703227996826 sec\n"
          ],
          "name": "stdout"
        }
      ]
    },
    {
      "metadata": {
        "id": "4R-ats5lEKCu",
        "colab_type": "code",
        "colab": {
          "base_uri": "https://localhost:8080/",
          "height": 174
        },
        "outputId": "e915aeca-2b77-46cd-8b81-5d8517187e54"
      },
      "cell_type": "code",
      "source": [
        "len(train_dataset)"
      ],
      "execution_count": 148,
      "outputs": [
        {
          "output_type": "error",
          "ename": "TypeError",
          "evalue": "ignored",
          "traceback": [
            "\u001b[0;31m---------------------------------------------------------------------------\u001b[0m",
            "\u001b[0;31mTypeError\u001b[0m                                 Traceback (most recent call last)",
            "\u001b[0;32m<ipython-input-148-214974d0e0c0>\u001b[0m in \u001b[0;36m<module>\u001b[0;34m()\u001b[0m\n\u001b[0;32m----> 1\u001b[0;31m \u001b[0mlen\u001b[0m\u001b[0;34m(\u001b[0m\u001b[0mtrain_dataset\u001b[0m\u001b[0;34m)\u001b[0m\u001b[0;34m\u001b[0m\u001b[0;34m\u001b[0m\u001b[0m\n\u001b[0m",
            "\u001b[0;31mTypeError\u001b[0m: object of type 'BatchDataset' has no len()"
          ]
        }
      ]
    },
    {
      "metadata": {
        "id": "5m4M_7SNDcQl",
        "colab_type": "code",
        "colab": {
          "base_uri": "https://localhost:8080/",
          "height": 1612
        },
        "outputId": "e0e03b81-5653-4825-9ddd-8a3a3fd2ff91"
      },
      "cell_type": "code",
      "source": [
        "train(train_dataset, 100)"
      ],
      "execution_count": 143,
      "outputs": [
        {
          "output_type": "stream",
          "text": [
            "Epoch Loop:   0%|          | 0/100 [00:00<?, ?it/s]\n",
            "Inner Epoch Loop: 0it [00:00, ?it/s]\u001b[A\n",
            "Inner Epoch Loop: 1it [00:00,  1.97it/s]\u001b[A\n",
            "Inner Epoch Loop: 132it [00:00,  2.82it/s]\u001b[A\n",
            "Inner Epoch Loop: 232it [00:00,  4.02it/s]\u001b[A\n",
            "Epoch Loop:   1%|          | 1/100 [00:00<01:13,  1.34it/s]\n",
            "Inner Epoch Loop: 0it [00:00, ?it/s]\u001b[A\n",
            "Inner Epoch Loop: 1it [00:00,  1.97it/s]\u001b[A\n",
            "Inner Epoch Loop: 100it [00:00,  2.82it/s]\u001b[A\n",
            "Inner Epoch Loop: 196it [00:00,  4.02it/s]\u001b[A\n",
            "Epoch Loop:   2%|▏         | 2/100 [00:01<01:14,  1.32it/s]\n",
            "Inner Epoch Loop: 0it [00:00, ?it/s]\u001b[A\n",
            "Inner Epoch Loop: 1it [00:00,  2.53it/s]\u001b[A\n",
            "Inner Epoch Loop: 101it [00:00,  3.61it/s]\u001b[A\n",
            "Inner Epoch Loop: 191it [00:00,  5.15it/s]\u001b[A\n",
            "Epoch Loop:   3%|▎         | 3/100 [00:02<01:11,  1.36it/s]\n",
            "Inner Epoch Loop: 0it [00:00, ?it/s]\u001b[A\n",
            "Inner Epoch Loop: 1it [00:00,  2.64it/s]\u001b[A\n",
            "Inner Epoch Loop: 107it [00:00,  3.77it/s]\u001b[A\n",
            "Inner Epoch Loop: 206it [00:00,  5.38it/s]\u001b[A\n",
            "Epoch Loop:   4%|▍         | 4/100 [00:02<01:07,  1.41it/s]\n",
            "Inner Epoch Loop: 0it [00:00, ?it/s]\u001b[A\n",
            "Inner Epoch Loop: 1it [00:00,  2.66it/s]\u001b[A\n",
            "Inner Epoch Loop: 106it [00:00,  3.79it/s]\u001b[A\n",
            "Inner Epoch Loop: 204it [00:00,  5.41it/s]\u001b[A\n",
            "Epoch Loop:   5%|▌         | 5/100 [00:03<01:05,  1.45it/s]\n",
            "Inner Epoch Loop: 0it [00:00, ?it/s]\u001b[A\n",
            "Inner Epoch Loop: 1it [00:00,  2.71it/s]\u001b[A\n",
            "Inner Epoch Loop: 107it [00:00,  3.87it/s]\u001b[A\n",
            "Inner Epoch Loop: 209it [00:00,  5.52it/s]\u001b[A\n",
            "Epoch Loop:   6%|▌         | 6/100 [00:04<01:03,  1.49it/s]\n",
            "Inner Epoch Loop: 0it [00:00, ?it/s]\u001b[A\n",
            "Inner Epoch Loop: 1it [00:00,  2.67it/s]\u001b[A\n",
            "Inner Epoch Loop: 111it [00:00,  3.81it/s]\u001b[A\n",
            "Inner Epoch Loop: 209it [00:00,  5.44it/s]\u001b[A\n",
            "Epoch Loop:   7%|▋         | 7/100 [00:04<01:01,  1.51it/s]\n",
            "Inner Epoch Loop: 0it [00:00, ?it/s]\u001b[A\n",
            "Inner Epoch Loop: 1it [00:00,  2.71it/s]\u001b[A\n",
            "Inner Epoch Loop: 103it [00:00,  3.86it/s]\u001b[A\n",
            "Inner Epoch Loop: 207it [00:00,  5.51it/s]\u001b[A\n",
            "Epoch Loop:   8%|▊         | 8/100 [00:05<01:00,  1.53it/s]\n",
            "Inner Epoch Loop: 0it [00:00, ?it/s]\u001b[A\n",
            "Inner Epoch Loop: 1it [00:00,  2.75it/s]\u001b[A\n",
            "Inner Epoch Loop: 105it [00:00,  3.93it/s]\u001b[A\n",
            "Inner Epoch Loop: 201it [00:00,  5.60it/s]\u001b[A\n",
            "Epoch Loop:   9%|▉         | 9/100 [00:06<00:59,  1.54it/s]\n",
            "Inner Epoch Loop: 0it [00:00, ?it/s]\u001b[A\n",
            "Inner Epoch Loop: 1it [00:00,  2.70it/s]\u001b[A\n",
            "Inner Epoch Loop: 106it [00:00,  3.85it/s]\u001b[A\n",
            "Inner Epoch Loop: 201it [00:00,  5.49it/s]\u001b[A\n",
            "Epoch Loop:  10%|█         | 10/100 [00:06<00:58,  1.55it/s]\n",
            "Inner Epoch Loop: 0it [00:00, ?it/s]\u001b[A\n",
            "Inner Epoch Loop: 1it [00:00,  2.73it/s]\u001b[A\n",
            "Inner Epoch Loop: 111it [00:00,  3.90it/s]\u001b[A\n",
            "Inner Epoch Loop: 199it [00:00,  5.55it/s]\u001b[A\n",
            "Epoch Loop:  11%|█         | 11/100 [00:07<00:57,  1.55it/s]\n",
            "Inner Epoch Loop: 0it [00:00, ?it/s]\u001b[A\n",
            "Inner Epoch Loop: 1it [00:00,  2.69it/s]\u001b[A\n",
            "Inner Epoch Loop: 112it [00:00,  3.84it/s]\u001b[A\n",
            "Inner Epoch Loop: 215it [00:00,  5.48it/s]\u001b[A\n",
            "Epoch Loop:  12%|█▏        | 12/100 [00:07<00:56,  1.57it/s]\n",
            "Inner Epoch Loop: 0it [00:00, ?it/s]\u001b[A\n",
            "Inner Epoch Loop: 1it [00:00,  2.68it/s]\u001b[A\n",
            "Inner Epoch Loop: 106it [00:00,  3.82it/s]\u001b[A\n",
            "Inner Epoch Loop: 207it [00:00,  5.45it/s]\u001b[A\n",
            "Epoch Loop:  13%|█▎        | 13/100 [00:08<00:55,  1.57it/s]\n",
            "Inner Epoch Loop: 0it [00:00, ?it/s]\u001b[A\n",
            "Inner Epoch Loop: 1it [00:00,  2.72it/s]\u001b[A\n",
            "Inner Epoch Loop: 111it [00:00,  3.88it/s]\u001b[A\n",
            "Inner Epoch Loop: 208it [00:00,  5.53it/s]\u001b[A\n"
          ],
          "name": "stderr"
        },
        {
          "output_type": "error",
          "ename": "KeyboardInterrupt",
          "evalue": "ignored",
          "traceback": [
            "\u001b[0;31m---------------------------------------------------------------------------\u001b[0m",
            "\u001b[0;31mKeyboardInterrupt\u001b[0m                         Traceback (most recent call last)",
            "\u001b[0;32m<ipython-input-143-5df6ad43e660>\u001b[0m in \u001b[0;36m<module>\u001b[0;34m()\u001b[0m\n\u001b[0;32m----> 1\u001b[0;31m \u001b[0mtrain\u001b[0m\u001b[0;34m(\u001b[0m\u001b[0mtrain_dataset\u001b[0m\u001b[0;34m,\u001b[0m \u001b[0;36m100\u001b[0m\u001b[0;34m)\u001b[0m\u001b[0;34m\u001b[0m\u001b[0;34m\u001b[0m\u001b[0m\n\u001b[0m",
            "\u001b[0;32m<ipython-input-142-67a47322b352>\u001b[0m in \u001b[0;36mtrain\u001b[0;34m(dataset, epochs)\u001b[0m\n\u001b[1;32m      2\u001b[0m   \u001b[0;32mfor\u001b[0m \u001b[0mep\u001b[0m \u001b[0;32min\u001b[0m \u001b[0mtqdm\u001b[0m\u001b[0;34m.\u001b[0m\u001b[0mtrange\u001b[0m\u001b[0;34m(\u001b[0m\u001b[0mepochs\u001b[0m\u001b[0;34m,\u001b[0m \u001b[0mdesc\u001b[0m\u001b[0;34m=\u001b[0m\u001b[0;34m'Epoch Loop'\u001b[0m\u001b[0;34m)\u001b[0m\u001b[0;34m:\u001b[0m\u001b[0;34m\u001b[0m\u001b[0;34m\u001b[0m\u001b[0m\n\u001b[1;32m      3\u001b[0m \u001b[0;34m\u001b[0m\u001b[0m\n\u001b[0;32m----> 4\u001b[0;31m     \u001b[0;32mfor\u001b[0m \u001b[0mbatch\u001b[0m \u001b[0;32min\u001b[0m \u001b[0mtqdm\u001b[0m\u001b[0;34m.\u001b[0m\u001b[0mtqdm\u001b[0m\u001b[0;34m(\u001b[0m\u001b[0mdataset\u001b[0m\u001b[0;34m,\u001b[0m \u001b[0mdesc\u001b[0m\u001b[0;34m=\u001b[0m\u001b[0;34m'Inner Epoch Loop'\u001b[0m\u001b[0;34m)\u001b[0m\u001b[0;34m:\u001b[0m\u001b[0;34m\u001b[0m\u001b[0;34m\u001b[0m\u001b[0m\n\u001b[0m\u001b[1;32m      5\u001b[0m       \u001b[0;32mpass\u001b[0m\u001b[0;34m\u001b[0m\u001b[0;34m\u001b[0m\u001b[0m\n",
            "\u001b[0;32m/usr/local/lib/python3.6/dist-packages/tqdm/_tqdm.py\u001b[0m in \u001b[0;36m__iter__\u001b[0;34m(self)\u001b[0m\n\u001b[1;32m    977\u001b[0m \"\"\", fp_write=getattr(self.fp, 'write', sys.stderr.write))\n\u001b[1;32m    978\u001b[0m \u001b[0;34m\u001b[0m\u001b[0m\n\u001b[0;32m--> 979\u001b[0;31m             \u001b[0;32mfor\u001b[0m \u001b[0mobj\u001b[0m \u001b[0;32min\u001b[0m \u001b[0miterable\u001b[0m\u001b[0;34m:\u001b[0m\u001b[0;34m\u001b[0m\u001b[0;34m\u001b[0m\u001b[0m\n\u001b[0m\u001b[1;32m    980\u001b[0m                 \u001b[0;32myield\u001b[0m \u001b[0mobj\u001b[0m\u001b[0;34m\u001b[0m\u001b[0;34m\u001b[0m\u001b[0m\n\u001b[1;32m    981\u001b[0m                 \u001b[0;31m# Update and possibly print the progressbar.\u001b[0m\u001b[0;34m\u001b[0m\u001b[0;34m\u001b[0m\u001b[0;34m\u001b[0m\u001b[0m\n",
            "\u001b[0;32m/usr/local/lib/python3.6/dist-packages/tensorflow/python/data/ops/iterator_ops.py\u001b[0m in \u001b[0;36m__next__\u001b[0;34m(self)\u001b[0m\n\u001b[1;32m    554\u001b[0m \u001b[0;34m\u001b[0m\u001b[0m\n\u001b[1;32m    555\u001b[0m   \u001b[0;32mdef\u001b[0m \u001b[0m__next__\u001b[0m\u001b[0;34m(\u001b[0m\u001b[0mself\u001b[0m\u001b[0;34m)\u001b[0m\u001b[0;34m:\u001b[0m  \u001b[0;31m# For Python 3 compatibility\u001b[0m\u001b[0;34m\u001b[0m\u001b[0;34m\u001b[0m\u001b[0m\n\u001b[0;32m--> 556\u001b[0;31m     \u001b[0;32mreturn\u001b[0m \u001b[0mself\u001b[0m\u001b[0;34m.\u001b[0m\u001b[0mnext\u001b[0m\u001b[0;34m(\u001b[0m\u001b[0;34m)\u001b[0m\u001b[0;34m\u001b[0m\u001b[0;34m\u001b[0m\u001b[0m\n\u001b[0m\u001b[1;32m    557\u001b[0m \u001b[0;34m\u001b[0m\u001b[0m\n\u001b[1;32m    558\u001b[0m   \u001b[0;32mdef\u001b[0m \u001b[0m_next_internal\u001b[0m\u001b[0;34m(\u001b[0m\u001b[0mself\u001b[0m\u001b[0;34m)\u001b[0m\u001b[0;34m:\u001b[0m\u001b[0;34m\u001b[0m\u001b[0;34m\u001b[0m\u001b[0m\n",
            "\u001b[0;32m/usr/local/lib/python3.6/dist-packages/tensorflow/python/data/ops/iterator_ops.py\u001b[0m in \u001b[0;36mnext\u001b[0;34m(self)\u001b[0m\n\u001b[1;32m    583\u001b[0m     \"\"\"\n\u001b[1;32m    584\u001b[0m     \u001b[0;32mtry\u001b[0m\u001b[0;34m:\u001b[0m\u001b[0;34m\u001b[0m\u001b[0;34m\u001b[0m\u001b[0m\n\u001b[0;32m--> 585\u001b[0;31m       \u001b[0;32mreturn\u001b[0m \u001b[0mself\u001b[0m\u001b[0;34m.\u001b[0m\u001b[0m_next_internal\u001b[0m\u001b[0;34m(\u001b[0m\u001b[0;34m)\u001b[0m\u001b[0;34m\u001b[0m\u001b[0;34m\u001b[0m\u001b[0m\n\u001b[0m\u001b[1;32m    586\u001b[0m     \u001b[0;32mexcept\u001b[0m \u001b[0merrors\u001b[0m\u001b[0;34m.\u001b[0m\u001b[0mOutOfRangeError\u001b[0m\u001b[0;34m:\u001b[0m\u001b[0;34m\u001b[0m\u001b[0;34m\u001b[0m\u001b[0m\n\u001b[1;32m    587\u001b[0m       \u001b[0;32mraise\u001b[0m \u001b[0mStopIteration\u001b[0m\u001b[0;34m\u001b[0m\u001b[0;34m\u001b[0m\u001b[0m\n",
            "\u001b[0;32m/usr/local/lib/python3.6/dist-packages/tensorflow/python/data/ops/iterator_ops.py\u001b[0m in \u001b[0;36m_next_internal\u001b[0;34m(self)\u001b[0m\n\u001b[1;32m    575\u001b[0m             \u001b[0mself\u001b[0m\u001b[0;34m.\u001b[0m\u001b[0m_resource\u001b[0m\u001b[0;34m,\u001b[0m\u001b[0;34m\u001b[0m\u001b[0;34m\u001b[0m\u001b[0m\n\u001b[1;32m    576\u001b[0m             \u001b[0moutput_types\u001b[0m\u001b[0;34m=\u001b[0m\u001b[0mself\u001b[0m\u001b[0;34m.\u001b[0m\u001b[0m_flat_output_types\u001b[0m\u001b[0;34m,\u001b[0m\u001b[0;34m\u001b[0m\u001b[0;34m\u001b[0m\u001b[0m\n\u001b[0;32m--> 577\u001b[0;31m             output_shapes=self._flat_output_shapes)\n\u001b[0m\u001b[1;32m    578\u001b[0m \u001b[0;34m\u001b[0m\u001b[0m\n\u001b[1;32m    579\u001b[0m       \u001b[0;32mreturn\u001b[0m \u001b[0mself\u001b[0m\u001b[0;34m.\u001b[0m\u001b[0m_structure\u001b[0m\u001b[0;34m.\u001b[0m\u001b[0m_from_compatible_tensor_list\u001b[0m\u001b[0;34m(\u001b[0m\u001b[0mret\u001b[0m\u001b[0;34m)\u001b[0m  \u001b[0;31m# pylint: disable=protected-access\u001b[0m\u001b[0;34m\u001b[0m\u001b[0;34m\u001b[0m\u001b[0m\n",
            "\u001b[0;32m/usr/local/lib/python3.6/dist-packages/tensorflow/python/ops/gen_dataset_ops.py\u001b[0m in \u001b[0;36miterator_get_next_sync\u001b[0;34m(iterator, output_types, output_shapes, name)\u001b[0m\n\u001b[1;32m   1938\u001b[0m         \u001b[0m_ctx\u001b[0m\u001b[0;34m.\u001b[0m\u001b[0m_context_handle\u001b[0m\u001b[0;34m,\u001b[0m \u001b[0m_ctx\u001b[0m\u001b[0;34m.\u001b[0m\u001b[0m_thread_local_data\u001b[0m\u001b[0;34m.\u001b[0m\u001b[0mdevice_name\u001b[0m\u001b[0;34m,\u001b[0m\u001b[0;34m\u001b[0m\u001b[0;34m\u001b[0m\u001b[0m\n\u001b[1;32m   1939\u001b[0m         \u001b[0;34m\"IteratorGetNextSync\"\u001b[0m\u001b[0;34m,\u001b[0m \u001b[0mname\u001b[0m\u001b[0;34m,\u001b[0m \u001b[0m_ctx\u001b[0m\u001b[0;34m.\u001b[0m\u001b[0m_post_execution_callbacks\u001b[0m\u001b[0;34m,\u001b[0m \u001b[0miterator\u001b[0m\u001b[0;34m,\u001b[0m\u001b[0;34m\u001b[0m\u001b[0;34m\u001b[0m\u001b[0m\n\u001b[0;32m-> 1940\u001b[0;31m         \"output_types\", output_types, \"output_shapes\", output_shapes)\n\u001b[0m\u001b[1;32m   1941\u001b[0m       \u001b[0;32mreturn\u001b[0m \u001b[0m_result\u001b[0m\u001b[0;34m\u001b[0m\u001b[0;34m\u001b[0m\u001b[0m\n\u001b[1;32m   1942\u001b[0m     \u001b[0;32mexcept\u001b[0m \u001b[0m_core\u001b[0m\u001b[0;34m.\u001b[0m\u001b[0m_FallbackException\u001b[0m\u001b[0;34m:\u001b[0m\u001b[0;34m\u001b[0m\u001b[0;34m\u001b[0m\u001b[0m\n",
            "\u001b[0;31mKeyboardInterrupt\u001b[0m: "
          ]
        }
      ]
    },
    {
      "metadata": {
        "id": "gFNvilYIDdnO",
        "colab_type": "code",
        "colab": {}
      },
      "cell_type": "code",
      "source": [
        ""
      ],
      "execution_count": 0,
      "outputs": []
    }
  ]
}