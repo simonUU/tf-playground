{
  "nbformat": 4,
  "nbformat_minor": 0,
  "metadata": {
    "colab": {
      "name": "VanillaGANwithBatchDiscriminator.ipynb",
      "version": "0.3.2",
      "provenance": [],
      "collapsed_sections": [
        "QKrnHVegoq-g"
      ],
      "include_colab_link": true
    },
    "kernelspec": {
      "name": "python3",
      "display_name": "Python 3"
    },
    "accelerator": "GPU"
  },
  "cells": [
    {
      "cell_type": "markdown",
      "metadata": {
        "id": "view-in-github",
        "colab_type": "text"
      },
      "source": [
        "<a href=\"https://colab.research.google.com/github/simonUU/tf-playground/blob/master/VanillaGANwithBatchDiscriminator.ipynb\" target=\"_parent\"><img src=\"https://colab.research.google.com/assets/colab-badge.svg\" alt=\"Open In Colab\"/></a>"
      ]
    },
    {
      "metadata": {
        "id": "wflA4ZPQnfPC",
        "colab_type": "text"
      },
      "cell_type": "markdown",
      "source": [
        "# Vanilla GAN with Batch Discriminator\n",
        "\n",
        "In this notebook, we test an implementation of a vanilla GAN with an second batch discriminatior that should prohibit mode collaps.\n",
        "\n",
        "We use an LSTM to have a binary classification over one batch in order to validate the diversity of the generator. \n",
        "For this the input images have to be shuffled.\n",
        "\n",
        "### Comments\n",
        "* The preliminary results are promising\n",
        "* Execution time with second lstm are twice as long\n",
        "* LR for the generator between D1 and D2 have to be adjusted/tuned"
      ]
    },
    {
      "metadata": {
        "id": "7sYqYTe6mOGI",
        "colab_type": "code",
        "colab": {
          "base_uri": "https://localhost:8080/",
          "height": 90
        },
        "outputId": "4b278887-4382-48f2-de4b-c41997252631"
      },
      "cell_type": "code",
      "source": [
        "# lets load tf2.0\n",
        "!pip install -q tensorflow-gpu==2.0.0-alpha0"
      ],
      "execution_count": 1,
      "outputs": [
        {
          "output_type": "stream",
          "text": [
            "\u001b[K     |████████████████████████████████| 332.1MB 69kB/s \n",
            "\u001b[K     |████████████████████████████████| 61kB 25.6MB/s \n",
            "\u001b[K     |████████████████████████████████| 419kB 44.5MB/s \n",
            "\u001b[K     |████████████████████████████████| 3.0MB 43.2MB/s \n",
            "\u001b[?25h"
          ],
          "name": "stdout"
        }
      ]
    },
    {
      "metadata": {
        "id": "M7ClduRRn2xC",
        "colab_type": "code",
        "colab": {
          "base_uri": "https://localhost:8080/",
          "height": 35
        },
        "outputId": "1dd06411-8ec1-47a0-b12a-7a4ae03107eb"
      },
      "cell_type": "code",
      "source": [
        "import tensorflow as tf\n",
        "print(tf.__version__)"
      ],
      "execution_count": 2,
      "outputs": [
        {
          "output_type": "stream",
          "text": [
            "2.0.0-alpha0\n"
          ],
          "name": "stdout"
        }
      ]
    },
    {
      "metadata": {
        "id": "K0G0hCgooHFS",
        "colab_type": "code",
        "colab": {}
      },
      "cell_type": "code",
      "source": [
        "import tqdm\n",
        "import time\n",
        "import os \n",
        "\n",
        "from IPython import display\n",
        "import matplotlib.pyplot as plt"
      ],
      "execution_count": 0,
      "outputs": []
    },
    {
      "metadata": {
        "id": "TpCVgOWzBdPp",
        "colab_type": "code",
        "colab": {}
      },
      "cell_type": "code",
      "source": [
        "# GLOBAL SETTING\n",
        "\n",
        "BATCH_SIZE = 256\n",
        "NOISE_DIM = 100\n",
        "\n",
        "USE_BATCH_DISCRIMINATOR = True"
      ],
      "execution_count": 0,
      "outputs": []
    },
    {
      "metadata": {
        "id": "QKrnHVegoq-g",
        "colab_type": "text"
      },
      "cell_type": "markdown",
      "source": [
        "## Load the data"
      ]
    },
    {
      "metadata": {
        "id": "9td51Uf0pAkK",
        "colab_type": "code",
        "colab": {
          "base_uri": "https://localhost:8080/",
          "height": 54
        },
        "outputId": "90cf6bdd-272a-44b6-9e1d-73adbe9d2b15"
      },
      "cell_type": "code",
      "source": [
        "(train_images, train_labels), (_, _) = tf.keras.datasets.mnist.load_data()\n"
      ],
      "execution_count": 6,
      "outputs": [
        {
          "output_type": "stream",
          "text": [
            "Downloading data from https://storage.googleapis.com/tensorflow/tf-keras-datasets/mnist.npz\n",
            "11493376/11490434 [==============================] - 0s 0us/step\n"
          ],
          "name": "stdout"
        }
      ]
    },
    {
      "metadata": {
        "id": "WAf3tE-5pE1r",
        "colab_type": "code",
        "colab": {}
      },
      "cell_type": "code",
      "source": [
        "train_images = train_images.reshape(train_images.shape[0], 28, 28, 1).astype('float32')\n",
        "train_images = (train_images - 127.5) / 127.5 # Normalize the images to [-1, 1]\n"
      ],
      "execution_count": 0,
      "outputs": []
    },
    {
      "metadata": {
        "id": "OzZFaB86qOiS",
        "colab_type": "code",
        "colab": {
          "base_uri": "https://localhost:8080/",
          "height": 35
        },
        "outputId": "9e8dfb2a-89d5-478b-b25a-2c8a4d0041ba"
      },
      "cell_type": "code",
      "source": [
        "train_images.shape"
      ],
      "execution_count": 14,
      "outputs": [
        {
          "output_type": "execute_result",
          "data": {
            "text/plain": [
              "(60000, 28, 28, 1)"
            ]
          },
          "metadata": {
            "tags": []
          },
          "execution_count": 14
        }
      ]
    },
    {
      "metadata": {
        "id": "fkozdW_UqMdL",
        "colab_type": "code",
        "colab": {}
      },
      "cell_type": "code",
      "source": [
        "BUFFER_SIZE = train_images.shape[0]\n",
        "\n"
      ],
      "execution_count": 0,
      "outputs": []
    },
    {
      "metadata": {
        "id": "Ogov1s2spIaa",
        "colab_type": "code",
        "colab": {}
      },
      "cell_type": "code",
      "source": [
        "# Use a tensorflow dataset\n",
        "\n",
        "train_dataset = tf.data.Dataset.from_tensor_slices(train_images)\n",
        "train_dataset = train_dataset.shuffle(BUFFER_SIZE)\n",
        "train_dataset = train_dataset.batch(BATCH_SIZE)"
      ],
      "execution_count": 0,
      "outputs": []
    },
    {
      "metadata": {
        "id": "h1RCzfbpqVXf",
        "colab_type": "code",
        "colab": {}
      },
      "cell_type": "code",
      "source": [
        ""
      ],
      "execution_count": 0,
      "outputs": []
    },
    {
      "metadata": {
        "id": "PkoyiY_GqWvj",
        "colab_type": "text"
      },
      "cell_type": "markdown",
      "source": [
        "## The generator"
      ]
    },
    {
      "metadata": {
        "id": "I30cc0_crmiI",
        "colab_type": "code",
        "colab": {}
      },
      "cell_type": "code",
      "source": [
        "from tensorflow.keras import layers\n",
        "\n",
        "def get_generator():\n",
        "  # Total params: 1,818,112\n",
        "  # Trainable params: 1,792,768\n",
        "  # Non-trainable params: 25,344\n",
        "  \n",
        "  i = layers.Input(shape=(NOISE_DIM,))\n",
        "  \n",
        "  h = layers.Dense(7*7*256, use_bias=False)(i)\n",
        "  h = layers.BatchNormalization()(h)\n",
        "  h = layers.LeakyReLU()(h)\n",
        "\n",
        "  h = layers.Reshape((7, 7, 256))(h)\n",
        "\n",
        "  h = layers.Conv2DTranspose(64, (5,5), strides=(1,1),  use_bias=False)(h)\n",
        "  h = layers.BatchNormalization()(h)\n",
        "  h = layers.LeakyReLU()(h)\n",
        "\n",
        "  h = layers.Conv2DTranspose(64, (5,5), strides=(2,2),  use_bias=False)(h)\n",
        "  h = layers.BatchNormalization()(h)\n",
        "  h = layers.LeakyReLU()(h)\n",
        "\n",
        "  o = layers.Conv2DTranspose(1, (4,4), strides=(1,1),  use_bias=False, activation='tanh')(h)\n",
        "\n",
        "  m = tf.keras.Model(i,o)\n",
        "  return m"
      ],
      "execution_count": 0,
      "outputs": []
    },
    {
      "metadata": {
        "id": "cCowaW69GtwX",
        "colab_type": "code",
        "colab": {}
      },
      "cell_type": "code",
      "source": [
        "\n",
        "def get_generator2():\n",
        "  # Total params: 1,818,112\n",
        "  # Trainable params: 1,792,768\n",
        "  # Non-trainable params: 25,344\n",
        "  \n",
        "  i = layers.Input(shape=(NOISE_DIM,))\n",
        "  \n",
        "  h = layers.Dense(7*7*256, use_bias=False)(i)\n",
        "  h = layers.BatchNormalization()(h)\n",
        "  h = layers.LeakyReLU()(h)\n",
        "\n",
        "  h = layers.Reshape((7, 7, 256))(h)\n",
        "\n",
        "  h = layers.Conv2DTranspose(128, (5,5), strides=(1,1), padding='same',  use_bias=False)(h)\n",
        "  h = layers.BatchNormalization()(h)\n",
        "  h = layers.LeakyReLU()(h)\n",
        "\n",
        "  h = layers.Conv2DTranspose(64, (5,5), strides=(2,2),  padding='same', use_bias=False)(h)\n",
        "  h = layers.BatchNormalization()(h)\n",
        "  h = layers.LeakyReLU()(h)\n",
        "\n",
        "  o = layers.Conv2DTranspose(1, (5,5), strides=(2,2), padding='same', use_bias=False, activation='tanh')(h)\n",
        "\n",
        "  m = tf.keras.Model(i,o)\n",
        "  return m"
      ],
      "execution_count": 0,
      "outputs": []
    },
    {
      "metadata": {
        "id": "69AbmhW-sqJr",
        "colab_type": "text"
      },
      "cell_type": "markdown",
      "source": [
        "Lets test the generator"
      ]
    },
    {
      "metadata": {
        "id": "sLnOdlKL8CkE",
        "colab_type": "code",
        "colab": {}
      },
      "cell_type": "code",
      "source": [
        "G = get_generator()\n",
        "\n",
        "noise = tf.random.normal([1,NOISE_DIM])\n",
        "test_img = G(noise, training=False)"
      ],
      "execution_count": 0,
      "outputs": []
    },
    {
      "metadata": {
        "id": "8zQAm2Wm8ajZ",
        "colab_type": "code",
        "colab": {
          "base_uri": "https://localhost:8080/",
          "height": 287
        },
        "outputId": "f0796c41-ff00-4954-fdae-18eef1431785"
      },
      "cell_type": "code",
      "source": [
        "plt.imshow(test_img[0, :, :, 0], cmap='gray')\n"
      ],
      "execution_count": 191,
      "outputs": [
        {
          "output_type": "execute_result",
          "data": {
            "text/plain": [
              "<matplotlib.image.AxesImage at 0x7ff2b51fc6a0>"
            ]
          },
          "metadata": {
            "tags": []
          },
          "execution_count": 191
        },
        {
          "output_type": "display_data",
          "data": {
            "image/png": "[encoded data removed]",
            "text/plain": [
              "<Figure size 432x288 with 1 Axes>"
            ]
          },
          "metadata": {
            "tags": []
          }
        }
      ]
    },
    {
      "metadata": {
        "id": "XsK2Hq858F5N",
        "colab_type": "text"
      },
      "cell_type": "markdown",
      "source": [
        "## The Discriminator(s)"
      ]
    },
    {
      "metadata": {
        "id": "0--DNGWI8LdO",
        "colab_type": "code",
        "colab": {}
      },
      "cell_type": "code",
      "source": [
        "def get_main_discriminator():\n",
        "  \n",
        "  i = layers.Input(shape=(28,28,1))\n",
        "\n",
        "  h = layers.Conv2D(64, (5,5), strides=(2,2), padding='same')(i)\n",
        "  h = layers.LeakyReLU()(h)\n",
        "  h = layers.Dropout(0.3)(h)\n",
        "\n",
        "  h = layers.Conv2D(128, (5,5), strides=(2,2), padding='same')(h)\n",
        "  h = layers.LeakyReLU()(h)\n",
        "  h = layers.Dropout(0.3)(h)\n",
        "\n",
        "  h = layers.Flatten()(h)\n",
        "  h = layers.Dense(1)(h)\n",
        "\n",
        "  m = tf.keras.Model(i,h)\n",
        "  return m"
      ],
      "execution_count": 0,
      "outputs": []
    },
    {
      "metadata": {
        "id": "Xeo3F4Gu9oK3",
        "colab_type": "code",
        "colab": {
          "base_uri": "https://localhost:8080/",
          "height": 35
        },
        "outputId": "91012eff-9b29-4497-dcc9-d07e5954da42"
      },
      "cell_type": "code",
      "source": [
        "D1 = get_main_discriminator()\n",
        "decision = D1(test_img)\n",
        "print(decision)"
      ],
      "execution_count": 193,
      "outputs": [
        {
          "output_type": "stream",
          "text": [
            "tf.Tensor([[0.00252793]], shape=(1, 1), dtype=float32)\n"
          ],
          "name": "stdout"
        }
      ]
    },
    {
      "metadata": {
        "id": "FeBxM2z19pQm",
        "colab_type": "code",
        "colab": {
          "base_uri": "https://localhost:8080/",
          "height": 495
        },
        "outputId": "811b8083-723c-4e7d-b970-8d11e2d44d66"
      },
      "cell_type": "code",
      "source": [
        "bm.summary()"
      ],
      "execution_count": 194,
      "outputs": [
        {
          "output_type": "stream",
          "text": [
            "Model: \"model_12\"\n",
            "_________________________________________________________________\n",
            "Layer (type)                 Output Shape              Param #   \n",
            "=================================================================\n",
            "input_39 (InputLayer)        [(None, 28, 28, 1)]       0         \n",
            "_________________________________________________________________\n",
            "conv2d_22 (Conv2D)           (None, 14, 14, 64)        1664      \n",
            "_________________________________________________________________\n",
            "leaky_re_lu_78 (LeakyReLU)   (None, 14, 14, 64)        0         \n",
            "_________________________________________________________________\n",
            "dropout_21 (Dropout)         (None, 14, 14, 64)        0         \n",
            "_________________________________________________________________\n",
            "conv2d_23 (Conv2D)           (None, 7, 7, 128)         204928    \n",
            "_________________________________________________________________\n",
            "leaky_re_lu_79 (LeakyReLU)   (None, 7, 7, 128)         0         \n",
            "_________________________________________________________________\n",
            "dropout_22 (Dropout)         (None, 7, 7, 128)         0         \n",
            "_________________________________________________________________\n",
            "flatten_1 (Flatten)          (None, 6272)              0         \n",
            "_________________________________________________________________\n",
            "dense_26 (Dense)             (None, 1)                 6273      \n",
            "=================================================================\n",
            "Total params: 212,865\n",
            "Trainable params: 212,865\n",
            "Non-trainable params: 0\n",
            "_________________________________________________________________\n"
          ],
          "name": "stdout"
        }
      ]
    },
    {
      "metadata": {
        "id": "ECjVpLy-LUKk",
        "colab_type": "code",
        "colab": {}
      },
      "cell_type": "code",
      "source": [
        "def get_batch_discriminator():\n",
        "  #     Total params: 292,097\n",
        "  #   Trainable params: 292,097\n",
        "  #   Non-trainable params: 0\n",
        "\n",
        "  i = layers.Input(shape=(BATCH_SIZE, 28,28,1))\n",
        "  \n",
        "  h = layers.Reshape(( BATCH_SIZE, 28*28 ))(i)\n",
        "#   h = layers.Dense(10)(h)\n",
        "  h = layers.LSTM(10)(h)\n",
        "\n",
        "  h = layers.Dense(1)(h)\n",
        "\n",
        "  m = tf.keras.Model(i,h)\n",
        "  return m"
      ],
      "execution_count": 0,
      "outputs": []
    },
    {
      "metadata": {
        "id": "2FTwSUkfMEDY",
        "colab_type": "code",
        "colab": {
          "base_uri": "https://localhost:8080/",
          "height": 55
        },
        "outputId": "020f8322-941e-4c71-ea3d-acb5ef323498"
      },
      "cell_type": "code",
      "source": [
        "D2 = get_batch_discriminator()"
      ],
      "execution_count": 302,
      "outputs": [
        {
          "output_type": "stream",
          "text": [
            "W0430 12:56:53.348661 140687815636864 tf_logging.py:161] <tensorflow.python.keras.layers.recurrent.UnifiedLSTM object at 0x7ff20976dc50>: Note that this layer is not optimized for performance. Please use tf.keras.layers.CuDNNLSTM for better performance on GPU.\n"
          ],
          "name": "stderr"
        }
      ]
    },
    {
      "metadata": {
        "id": "3Vd1xN6NN31h",
        "colab_type": "code",
        "colab": {
          "base_uri": "https://localhost:8080/",
          "height": 311
        },
        "outputId": "5967bda8-41e2-4331-e1d0-769621fd21ca"
      },
      "cell_type": "code",
      "source": [
        "D2.summary()"
      ],
      "execution_count": 303,
      "outputs": [
        {
          "output_type": "stream",
          "text": [
            "Model: \"model_35\"\n",
            "_________________________________________________________________\n",
            "Layer (type)                 Output Shape              Param #   \n",
            "=================================================================\n",
            "input_68 (InputLayer)        [(None, 256, 28, 28, 1)]  0         \n",
            "_________________________________________________________________\n",
            "reshape_37 (Reshape)         (None, 256, 784)          0         \n",
            "_________________________________________________________________\n",
            "unified_lstm_10 (UnifiedLSTM (None, 10)                31800     \n",
            "_________________________________________________________________\n",
            "dense_52 (Dense)             (None, 1)                 11        \n",
            "=================================================================\n",
            "Total params: 31,811\n",
            "Trainable params: 31,811\n",
            "Non-trainable params: 0\n",
            "_________________________________________________________________\n"
          ],
          "name": "stdout"
        }
      ]
    },
    {
      "metadata": {
        "id": "Xk-5jq8W-Kb5",
        "colab_type": "text"
      },
      "cell_type": "markdown",
      "source": [
        "## The Loss Functions"
      ]
    },
    {
      "metadata": {
        "id": "dgcGQAkY-WBW",
        "colab_type": "code",
        "colab": {}
      },
      "cell_type": "code",
      "source": [
        "# Discriminator 1 loss\n",
        "cross_entropy = tf.keras.losses.BinaryCrossentropy(from_logits=True)\n",
        "\n",
        "def discriminator_loss(real_outputs, fake_outputs):\n",
        "  real_loss = cross_entropy(tf.ones_like(real_outputs), real_outputs)\n",
        "  fake_loss = cross_entropy(tf.zeros_like(fake_outputs), fake_outputs)\n",
        "  return real_loss + fake_loss\n"
      ],
      "execution_count": 0,
      "outputs": []
    },
    {
      "metadata": {
        "id": "TVsgHE38Abcb",
        "colab_type": "code",
        "colab": {}
      },
      "cell_type": "code",
      "source": [
        "# Generator loss\n",
        "\n",
        "def generator_loss(fake_outputs):\n",
        "  return cross_entropy(tf.ones_like(fake_outputs), fake_outputs)"
      ],
      "execution_count": 0,
      "outputs": []
    },
    {
      "metadata": {
        "id": "QqFVN696Arqp",
        "colab_type": "code",
        "colab": {}
      },
      "cell_type": "code",
      "source": [
        "# optimizers\n",
        "\n",
        "gen_optimizer = tf.keras.optimizers.Adam(0.0001)\n",
        "dis1_optimizer = tf.keras.optimizers.Adam(0.0001)\n",
        "dis2_optimizer = tf.keras.optimizers.Adam(0.0001)"
      ],
      "execution_count": 0,
      "outputs": []
    },
    {
      "metadata": {
        "id": "GaUIN5BvA2JO",
        "colab_type": "code",
        "colab": {}
      },
      "cell_type": "code",
      "source": [
        "# Save checkpoints (taken from tf examples)\n",
        "\n",
        "checkpoint_dir = './training_checkpoints'\n",
        "checkpoint_prefix = os.path.join(checkpoint_dir, \"ckpt\")\n",
        "checkpoint = tf.train.Checkpoint(generator_optimizer=gen_optimizer,\n",
        "                                 discriminator_optimizer=dis1_optimizer,\n",
        "                                 generator=G,\n",
        "                                 discriminator=D1)\n"
      ],
      "execution_count": 0,
      "outputs": []
    },
    {
      "metadata": {
        "id": "del33EulA3TO",
        "colab_type": "text"
      },
      "cell_type": "markdown",
      "source": [
        "## Prepare the training"
      ]
    },
    {
      "metadata": {
        "id": "4TuYNugWBWIb",
        "colab_type": "code",
        "colab": {}
      },
      "cell_type": "code",
      "source": [
        "EPOCHS = 50\n",
        "num_examples_to_generate = 16\n",
        "\n",
        "# We will reuse this seed overtime (so it's easier)\n",
        "# to visualize progress in the animated GIF)\n",
        "seed = tf.random.normal([num_examples_to_generate, NOISE_DIM])\n"
      ],
      "execution_count": 0,
      "outputs": []
    },
    {
      "metadata": {
        "id": "oOqjNeoSBvvV",
        "colab_type": "code",
        "colab": {}
      },
      "cell_type": "code",
      "source": [
        "@tf.function\n",
        "def train_step(images):\n",
        "  noise = tf.random.normal([BATCH_SIZE, NOISE_DIM])\n",
        "  \n",
        "  if images.shape != [BATCH_SIZE, 28, 28, 1]:\n",
        "    return\n",
        "  \n",
        "  with tf.GradientTape() as gen_tape, tf.GradientTape() as gen_tape_batch, tf.GradientTape() as dis_tape, tf.GradientTape() as dis_tape_batch:\n",
        "    generated_images = G(noise, training=True)\n",
        "    \n",
        "    # Vanilla\n",
        "    real_output = D1(images, training=True)\n",
        "    fake_output = D1(generated_images, training=True)\n",
        "    \n",
        "    gen_loss = generator_loss(fake_output)\n",
        "    dis1_loss = discriminator_loss(real_output, fake_output)\n",
        "    \n",
        "    if USE_BATCH_DISCRIMINATOR:\n",
        "      # LSTM on Batch\n",
        "      assert images.shape == [BATCH_SIZE, 28, 28, 1], print(\"Shape not matched \", images.shape)\n",
        "      real_output_batch = D2(tf.reshape(images, (1, BATCH_SIZE, 28, 28, 1)), training=True)\n",
        "      fake_output_batch = D2(tf.reshape(generated_images, (1, BATCH_SIZE, 28, 28, 1)), training=True)\n",
        "\n",
        "    gen_loss_batch = generator_loss(fake_output_batch)\n",
        "    dis2_loss = discriminator_loss(real_output_batch, fake_output_batch)\n",
        "  \n",
        "  # Vanilla\n",
        "  gradients_gen = gen_tape.gradient(gen_loss, G.trainable_variables)\n",
        "  gradients_dis1 = dis_tape.gradient(dis1_loss, D1.trainable_variables)\n",
        "  \n",
        "  gen_optimizer.apply_gradients(zip(gradients_gen, G.trainable_variables))\n",
        "  dis1_optimizer.apply_gradients(zip(gradients_dis1, D1.trainable_variables))\n",
        "\n",
        "  if USE_BATCH_DISCRIMINATOR:\n",
        "    # LSTM on Batch\n",
        "    gradients_gen_batch = gen_tape_batch.gradient(gen_loss_batch, G.trainable_variables)\n",
        "    gradients_dis2 = dis_tape_batch.gradient(dis2_loss, D2.trainable_variables)\n",
        "\n",
        "    gen_optimizer.apply_gradients(zip(gradients_gen_batch, G.trainable_variables))\n",
        "    dis2_optimizer.apply_gradients(zip(gradients_dis2, D2.trainable_variables))"
      ],
      "execution_count": 0,
      "outputs": []
    },
    {
      "metadata": {
        "id": "yeLjK0_tFGjS",
        "colab_type": "code",
        "colab": {}
      },
      "cell_type": "code",
      "source": [
        "#vvvvv Taken from tf tutorial vvvvvv\n",
        "def generate_and_save_images(model, epoch, test_input):\n",
        "  # Notice `training` is set to False.\n",
        "  # This is so all layers run in inference mode (batchnorm).\n",
        "  predictions = model(test_input, training=False)\n",
        "\n",
        "  fig = plt.figure(figsize=(4,4))\n",
        "\n",
        "  for i in range(predictions.shape[0]):\n",
        "      plt.subplot(4, 4, i+1)\n",
        "      plt.imshow(predictions[i, :, :, 0] * 127.5 + 127.5, cmap='gray')\n",
        "      plt.axis('off')\n",
        "\n",
        "  plt.savefig('image_at_epoch_{:04d}.png'.format(epoch))\n",
        "  plt.show()\n"
      ],
      "execution_count": 0,
      "outputs": []
    },
    {
      "metadata": {
        "id": "HhuF4AKxDOCP",
        "colab_type": "code",
        "colab": {}
      },
      "cell_type": "code",
      "source": [
        "def train(dataset, epochs):\n",
        "  for ep in tqdm.trange(epochs, desc='Epoch Loop'):\n",
        "    \n",
        "#     for batch in tqdm.tqdm(dataset, desc='Inner Epoch Loop',):\n",
        "    for batch in dataset:\n",
        "      start = time.time()\n",
        "\n",
        "      train_step(batch)\n",
        "    # Produce images for the GIF as we go\n",
        "    display.clear_output(wait=True)\n",
        "    generate_and_save_images(G, ep + 1, seed)\n",
        "\n",
        "    if (ep + 1) % 15 == 0:\n",
        "      checkpoint.save(file_prefix=checkpoint_prefix)\n",
        "\n",
        "    print ('Time for epoch {} is {} sec'.format(ep+ 1, time.time()-start))\n",
        "        \n",
        "  # Generate after the final epoch\n",
        "  display.clear_output(wait=True)\n",
        "  generate_and_save_images(G,epochs,seed)\n"
      ],
      "execution_count": 0,
      "outputs": []
    },
    {
      "metadata": {
        "id": "8BRtZ4doEH1i",
        "colab_type": "code",
        "colab": {
          "base_uri": "https://localhost:8080/",
          "height": 927
        },
        "outputId": "98083336-0a0c-476c-f72f-8a32e11b96f8"
      },
      "cell_type": "code",
      "source": [
        "train(train_dataset, EPOCHS)\n"
      ],
      "execution_count": 343,
      "outputs": [
        {
          "output_type": "display_data",
          "data": {
            "image/png": "[encoded data removed]",
            "text/plain": [
              "<Figure size 288x288 with 16 Axes>"
            ]
          },
          "metadata": {
            "tags": []
          }
        },
        {
          "output_type": "stream",
          "text": [
            "\n",
            "\n",
            "\n",
            "\n",
            "\n",
            "\n",
            "\n",
            "\n",
            "\n",
            "\n",
            "\n",
            "\n",
            "\n",
            "\n",
            "\n",
            "\n",
            "\n",
            "\n",
            "Epoch Loop:  38%|███▊      | 19/50 [06:11<09:58, 19.32s/it]\u001b[A\u001b[A\u001b[A\u001b[A\u001b[A\u001b[A\u001b[A\u001b[A\u001b[A\u001b[A\u001b[A\u001b[A\u001b[A\u001b[A\u001b[A\u001b[A\u001b[A\u001b[A"
          ],
          "name": "stderr"
        },
        {
          "output_type": "stream",
          "text": [
            "Time for epoch 19 is 0.7046422958374023 sec\n"
          ],
          "name": "stdout"
        },
        {
          "output_type": "error",
          "ename": "KeyboardInterrupt",
          "evalue": "ignored",
          "traceback": [
            "\u001b[0;31m---------------------------------------------------------------------------\u001b[0m",
            "\u001b[0;31mKeyboardInterrupt\u001b[0m                         Traceback (most recent call last)",
            "\u001b[0;32m<ipython-input-343-d152560ca122>\u001b[0m in \u001b[0;36m<module>\u001b[0;34m()\u001b[0m\n\u001b[0;32m----> 1\u001b[0;31m \u001b[0mtrain\u001b[0m\u001b[0;34m(\u001b[0m\u001b[0mtrain_dataset\u001b[0m\u001b[0;34m,\u001b[0m \u001b[0mEPOCHS\u001b[0m\u001b[0;34m)\u001b[0m\u001b[0;34m\u001b[0m\u001b[0;34m\u001b[0m\u001b[0m\n\u001b[0m",
            "\u001b[0;32m<ipython-input-342-79153f5da712>\u001b[0m in \u001b[0;36mtrain\u001b[0;34m(dataset, epochs)\u001b[0m\n\u001b[1;32m      6\u001b[0m       \u001b[0mstart\u001b[0m \u001b[0;34m=\u001b[0m \u001b[0mtime\u001b[0m\u001b[0;34m.\u001b[0m\u001b[0mtime\u001b[0m\u001b[0;34m(\u001b[0m\u001b[0;34m)\u001b[0m\u001b[0;34m\u001b[0m\u001b[0;34m\u001b[0m\u001b[0m\n\u001b[1;32m      7\u001b[0m \u001b[0;34m\u001b[0m\u001b[0m\n\u001b[0;32m----> 8\u001b[0;31m       \u001b[0mtrain_step\u001b[0m\u001b[0;34m(\u001b[0m\u001b[0mbatch\u001b[0m\u001b[0;34m)\u001b[0m\u001b[0;34m\u001b[0m\u001b[0;34m\u001b[0m\u001b[0m\n\u001b[0m\u001b[1;32m      9\u001b[0m     \u001b[0;31m# Produce images for the GIF as we go\u001b[0m\u001b[0;34m\u001b[0m\u001b[0;34m\u001b[0m\u001b[0;34m\u001b[0m\u001b[0m\n\u001b[1;32m     10\u001b[0m     \u001b[0mdisplay\u001b[0m\u001b[0;34m.\u001b[0m\u001b[0mclear_output\u001b[0m\u001b[0;34m(\u001b[0m\u001b[0mwait\u001b[0m\u001b[0;34m=\u001b[0m\u001b[0;32mTrue\u001b[0m\u001b[0;34m)\u001b[0m\u001b[0;34m\u001b[0m\u001b[0;34m\u001b[0m\u001b[0m\n",
            "\u001b[0;32m/usr/local/lib/python3.6/dist-packages/tensorflow/python/eager/def_function.py\u001b[0m in \u001b[0;36m__call__\u001b[0;34m(self, *args, **kwds)\u001b[0m\n\u001b[1;32m    416\u001b[0m       \u001b[0;31m# In this case we have not created variables on the first call. So we can\u001b[0m\u001b[0;34m\u001b[0m\u001b[0;34m\u001b[0m\u001b[0;34m\u001b[0m\u001b[0m\n\u001b[1;32m    417\u001b[0m       \u001b[0;31m# run the first trace but we should fail if variables are created.\u001b[0m\u001b[0;34m\u001b[0m\u001b[0;34m\u001b[0m\u001b[0;34m\u001b[0m\u001b[0m\n\u001b[0;32m--> 418\u001b[0;31m       \u001b[0mresults\u001b[0m \u001b[0;34m=\u001b[0m \u001b[0mself\u001b[0m\u001b[0;34m.\u001b[0m\u001b[0m_stateful_fn\u001b[0m\u001b[0;34m(\u001b[0m\u001b[0;34m*\u001b[0m\u001b[0margs\u001b[0m\u001b[0;34m,\u001b[0m \u001b[0;34m**\u001b[0m\u001b[0mkwds\u001b[0m\u001b[0;34m)\u001b[0m\u001b[0;34m\u001b[0m\u001b[0;34m\u001b[0m\u001b[0m\n\u001b[0m\u001b[1;32m    419\u001b[0m       \u001b[0;32mif\u001b[0m \u001b[0mself\u001b[0m\u001b[0;34m.\u001b[0m\u001b[0m_created_variables\u001b[0m\u001b[0;34m:\u001b[0m\u001b[0;34m\u001b[0m\u001b[0;34m\u001b[0m\u001b[0m\n\u001b[1;32m    420\u001b[0m         raise ValueError(\"Creating variables on a non-first call to a function\"\n",
            "\u001b[0;32m/usr/local/lib/python3.6/dist-packages/tensorflow/python/eager/function.py\u001b[0m in \u001b[0;36m__call__\u001b[0;34m(self, *args, **kwargs)\u001b[0m\n\u001b[1;32m   1286\u001b[0m     \u001b[0;34m\"\"\"Calls a graph function specialized to the inputs.\"\"\"\u001b[0m\u001b[0;34m\u001b[0m\u001b[0;34m\u001b[0m\u001b[0m\n\u001b[1;32m   1287\u001b[0m     \u001b[0mgraph_function\u001b[0m\u001b[0;34m,\u001b[0m \u001b[0margs\u001b[0m\u001b[0;34m,\u001b[0m \u001b[0mkwargs\u001b[0m \u001b[0;34m=\u001b[0m \u001b[0mself\u001b[0m\u001b[0;34m.\u001b[0m\u001b[0m_maybe_define_function\u001b[0m\u001b[0;34m(\u001b[0m\u001b[0margs\u001b[0m\u001b[0;34m,\u001b[0m \u001b[0mkwargs\u001b[0m\u001b[0;34m)\u001b[0m\u001b[0;34m\u001b[0m\u001b[0;34m\u001b[0m\u001b[0m\n\u001b[0;32m-> 1288\u001b[0;31m     \u001b[0;32mreturn\u001b[0m \u001b[0mgraph_function\u001b[0m\u001b[0;34m.\u001b[0m\u001b[0m_filtered_call\u001b[0m\u001b[0;34m(\u001b[0m\u001b[0margs\u001b[0m\u001b[0;34m,\u001b[0m \u001b[0mkwargs\u001b[0m\u001b[0;34m)\u001b[0m  \u001b[0;31m# pylint: disable=protected-access\u001b[0m\u001b[0;34m\u001b[0m\u001b[0;34m\u001b[0m\u001b[0m\n\u001b[0m\u001b[1;32m   1289\u001b[0m \u001b[0;34m\u001b[0m\u001b[0m\n\u001b[1;32m   1290\u001b[0m   \u001b[0;34m@\u001b[0m\u001b[0mproperty\u001b[0m\u001b[0;34m\u001b[0m\u001b[0;34m\u001b[0m\u001b[0m\n",
            "\u001b[0;32m/usr/local/lib/python3.6/dist-packages/tensorflow/python/eager/function.py\u001b[0m in \u001b[0;36m_filtered_call\u001b[0;34m(self, args, kwargs)\u001b[0m\n\u001b[1;32m    572\u001b[0m     \"\"\"\n\u001b[1;32m    573\u001b[0m     return self._call_flat(\n\u001b[0;32m--> 574\u001b[0;31m         (t for t in nest.flatten((args, kwargs))\n\u001b[0m\u001b[1;32m    575\u001b[0m          if isinstance(t, (ops.Tensor,\n\u001b[1;32m    576\u001b[0m                            resource_variable_ops.ResourceVariable))))\n",
            "\u001b[0;32m/usr/local/lib/python3.6/dist-packages/tensorflow/python/eager/function.py\u001b[0m in \u001b[0;36m_call_flat\u001b[0;34m(self, args)\u001b[0m\n\u001b[1;32m    625\u001b[0m     \u001b[0;31m# Only need to override the gradient in graph mode and when we have outputs.\u001b[0m\u001b[0;34m\u001b[0m\u001b[0;34m\u001b[0m\u001b[0;34m\u001b[0m\u001b[0m\n\u001b[1;32m    626\u001b[0m     \u001b[0;32mif\u001b[0m \u001b[0mcontext\u001b[0m\u001b[0;34m.\u001b[0m\u001b[0mexecuting_eagerly\u001b[0m\u001b[0;34m(\u001b[0m\u001b[0;34m)\u001b[0m \u001b[0;32mor\u001b[0m \u001b[0;32mnot\u001b[0m \u001b[0mself\u001b[0m\u001b[0;34m.\u001b[0m\u001b[0moutputs\u001b[0m\u001b[0;34m:\u001b[0m\u001b[0;34m\u001b[0m\u001b[0;34m\u001b[0m\u001b[0m\n\u001b[0;32m--> 627\u001b[0;31m       \u001b[0moutputs\u001b[0m \u001b[0;34m=\u001b[0m \u001b[0mself\u001b[0m\u001b[0;34m.\u001b[0m\u001b[0m_inference_function\u001b[0m\u001b[0;34m.\u001b[0m\u001b[0mcall\u001b[0m\u001b[0;34m(\u001b[0m\u001b[0mctx\u001b[0m\u001b[0;34m,\u001b[0m \u001b[0margs\u001b[0m\u001b[0;34m)\u001b[0m\u001b[0;34m\u001b[0m\u001b[0;34m\u001b[0m\u001b[0m\n\u001b[0m\u001b[1;32m    628\u001b[0m     \u001b[0;32melse\u001b[0m\u001b[0;34m:\u001b[0m\u001b[0;34m\u001b[0m\u001b[0;34m\u001b[0m\u001b[0m\n\u001b[1;32m    629\u001b[0m       \u001b[0mself\u001b[0m\u001b[0;34m.\u001b[0m\u001b[0m_register_gradient\u001b[0m\u001b[0;34m(\u001b[0m\u001b[0;34m)\u001b[0m\u001b[0;34m\u001b[0m\u001b[0;34m\u001b[0m\u001b[0m\n",
            "\u001b[0;32m/usr/local/lib/python3.6/dist-packages/tensorflow/python/eager/function.py\u001b[0m in \u001b[0;36mcall\u001b[0;34m(self, ctx, args)\u001b[0m\n\u001b[1;32m    413\u001b[0m             attrs=(\"executor_type\", executor_type,\n\u001b[1;32m    414\u001b[0m                    \"config_proto\", config),\n\u001b[0;32m--> 415\u001b[0;31m             ctx=ctx)\n\u001b[0m\u001b[1;32m    416\u001b[0m       \u001b[0;31m# Replace empty list with None\u001b[0m\u001b[0;34m\u001b[0m\u001b[0;34m\u001b[0m\u001b[0;34m\u001b[0m\u001b[0m\n\u001b[1;32m    417\u001b[0m       \u001b[0moutputs\u001b[0m \u001b[0;34m=\u001b[0m \u001b[0moutputs\u001b[0m \u001b[0;32mor\u001b[0m \u001b[0;32mNone\u001b[0m\u001b[0;34m\u001b[0m\u001b[0;34m\u001b[0m\u001b[0m\n",
            "\u001b[0;32m/usr/local/lib/python3.6/dist-packages/tensorflow/python/eager/execute.py\u001b[0m in \u001b[0;36mquick_execute\u001b[0;34m(op_name, num_outputs, inputs, attrs, ctx, name)\u001b[0m\n\u001b[1;32m     58\u001b[0m     tensors = pywrap_tensorflow.TFE_Py_Execute(ctx._handle, device_name,\n\u001b[1;32m     59\u001b[0m                                                \u001b[0mop_name\u001b[0m\u001b[0;34m,\u001b[0m \u001b[0minputs\u001b[0m\u001b[0;34m,\u001b[0m \u001b[0mattrs\u001b[0m\u001b[0;34m,\u001b[0m\u001b[0;34m\u001b[0m\u001b[0;34m\u001b[0m\u001b[0m\n\u001b[0;32m---> 60\u001b[0;31m                                                num_outputs)\n\u001b[0m\u001b[1;32m     61\u001b[0m   \u001b[0;32mexcept\u001b[0m \u001b[0mcore\u001b[0m\u001b[0;34m.\u001b[0m\u001b[0m_NotOkStatusException\u001b[0m \u001b[0;32mas\u001b[0m \u001b[0me\u001b[0m\u001b[0;34m:\u001b[0m\u001b[0;34m\u001b[0m\u001b[0;34m\u001b[0m\u001b[0m\n\u001b[1;32m     62\u001b[0m     \u001b[0;32mif\u001b[0m \u001b[0mname\u001b[0m \u001b[0;32mis\u001b[0m \u001b[0;32mnot\u001b[0m \u001b[0;32mNone\u001b[0m\u001b[0;34m:\u001b[0m\u001b[0;34m\u001b[0m\u001b[0;34m\u001b[0m\u001b[0m\n",
            "\u001b[0;31mKeyboardInterrupt\u001b[0m: "
          ]
        }
      ]
    },
    {
      "metadata": {
        "id": "gFNvilYIDdnO",
        "colab_type": "code",
        "colab": {}
      },
      "cell_type": "code",
      "source": [
        ""
      ],
      "execution_count": 0,
      "outputs": []
    }
  ]
}